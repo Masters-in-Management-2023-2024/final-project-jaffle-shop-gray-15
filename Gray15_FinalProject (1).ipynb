{
  "nbformat": 4,
  "nbformat_minor": 0,
  "metadata": {
    "colab": {
      "provenance": []
    },
    "kernelspec": {
      "name": "python3",
      "display_name": "Python 3"
    },
    "language_info": {
      "name": "python"
    }
  },
  "cells": [
    {
      "cell_type": "markdown",
      "source": [
        "Programming for Business Analytics\n",
        "**Gray 15** - Final Project\n",
        "\n",
        "Team members:\n",
        "- Raza Khan\n",
        "- Gerardo Garza\n",
        "- Megan Gonzalez\n",
        "- Roza Gal\n",
        "- Stephanie Kaufman\n",
        "- Simi Filani\n"
      ],
      "metadata": {
        "id": "K8w8yUN1WFfZ"
      }
    },
    {
      "cell_type": "code",
      "source": [
        "# Import necessary libraries\n",
        "from google.colab import files\n",
        "import polars as pl\n",
        "from datetime import datetime, timedelta\n",
        "import matplotlib.pyplot as plt\n",
        "\n",
        "# Set up plotting style\n",
        "plt.style.use('seaborn-v0_8-darkgrid')"
      ],
      "metadata": {
        "id": "ldbscuHhXO-l"
      },
      "execution_count": null,
      "outputs": []
    },
    {
      "cell_type": "code",
      "source": [
        "from google.colab import files\n",
        "import polars as pl\n",
        "import os\n",
        "\n",
        "uploaded = files.upload()\n",
        "\n",
        "print(\"Files here:\", os.listdir())\n",
        "\n",
        "# Load all datasets\n",
        "customers = pl.read_csv(\"Customers.csv\")\n",
        "orders = pl.read_csv(\"Orders.csv\")\n",
        "items = pl.read_csv(\"Items.csv\")\n",
        "products = pl.read_csv(\"Products.csv\")\n",
        "stores = pl.read_csv(\"Stores.csv\")\n",
        "supplies = pl.read_csv(\"Supplies.csv\")\n",
        "\n",
        "# Display basic information about each dataset\n",
        "print(\"Dataset shapes:\")\n",
        "print(f\"Customers: {customers.shape}\")\n",
        "print(f\"Orders: {orders.shape}\")\n",
        "print(f\"Items: {items.shape}\")\n",
        "print(f\"Products: {products.shape}\")\n",
        "print(f\"Stores: {stores.shape}\")\n",
        "print(f\"Supplies: {supplies.shape}\")"
      ],
      "metadata": {
        "colab": {
          "base_uri": "https://localhost:8080/",
          "height": 413
        },
        "id": "wsiCsS0uXjGE",
        "outputId": "4de6dd73-d777-4963-854b-db297c118de1"
      },
      "execution_count": null,
      "outputs": [
        {
          "output_type": "display_data",
          "data": {
            "text/plain": [
              "<IPython.core.display.HTML object>"
            ],
            "text/html": [
              "\n",
              "     <input type=\"file\" id=\"files-c5f49eec-e273-4c64-887a-73d1056119fe\" name=\"files[]\" multiple disabled\n",
              "        style=\"border:none\" />\n",
              "     <output id=\"result-c5f49eec-e273-4c64-887a-73d1056119fe\">\n",
              "      Upload widget is only available when the cell has been executed in the\n",
              "      current browser session. Please rerun this cell to enable.\n",
              "      </output>\n",
              "      <script>// Copyright 2017 Google LLC\n",
              "//\n",
              "// Licensed under the Apache License, Version 2.0 (the \"License\");\n",
              "// you may not use this file except in compliance with the License.\n",
              "// You may obtain a copy of the License at\n",
              "//\n",
              "//      http://www.apache.org/licenses/LICENSE-2.0\n",
              "//\n",
              "// Unless required by applicable law or agreed to in writing, software\n",
              "// distributed under the License is distributed on an \"AS IS\" BASIS,\n",
              "// WITHOUT WARRANTIES OR CONDITIONS OF ANY KIND, either express or implied.\n",
              "// See the License for the specific language governing permissions and\n",
              "// limitations under the License.\n",
              "\n",
              "/**\n",
              " * @fileoverview Helpers for google.colab Python module.\n",
              " */\n",
              "(function(scope) {\n",
              "function span(text, styleAttributes = {}) {\n",
              "  const element = document.createElement('span');\n",
              "  element.textContent = text;\n",
              "  for (const key of Object.keys(styleAttributes)) {\n",
              "    element.style[key] = styleAttributes[key];\n",
              "  }\n",
              "  return element;\n",
              "}\n",
              "\n",
              "// Max number of bytes which will be uploaded at a time.\n",
              "const MAX_PAYLOAD_SIZE = 100 * 1024;\n",
              "\n",
              "function _uploadFiles(inputId, outputId) {\n",
              "  const steps = uploadFilesStep(inputId, outputId);\n",
              "  const outputElement = document.getElementById(outputId);\n",
              "  // Cache steps on the outputElement to make it available for the next call\n",
              "  // to uploadFilesContinue from Python.\n",
              "  outputElement.steps = steps;\n",
              "\n",
              "  return _uploadFilesContinue(outputId);\n",
              "}\n",
              "\n",
              "// This is roughly an async generator (not supported in the browser yet),\n",
              "// where there are multiple asynchronous steps and the Python side is going\n",
              "// to poll for completion of each step.\n",
              "// This uses a Promise to block the python side on completion of each step,\n",
              "// then passes the result of the previous step as the input to the next step.\n",
              "function _uploadFilesContinue(outputId) {\n",
              "  const outputElement = document.getElementById(outputId);\n",
              "  const steps = outputElement.steps;\n",
              "\n",
              "  const next = steps.next(outputElement.lastPromiseValue);\n",
              "  return Promise.resolve(next.value.promise).then((value) => {\n",
              "    // Cache the last promise value to make it available to the next\n",
              "    // step of the generator.\n",
              "    outputElement.lastPromiseValue = value;\n",
              "    return next.value.response;\n",
              "  });\n",
              "}\n",
              "\n",
              "/**\n",
              " * Generator function which is called between each async step of the upload\n",
              " * process.\n",
              " * @param {string} inputId Element ID of the input file picker element.\n",
              " * @param {string} outputId Element ID of the output display.\n",
              " * @return {!Iterable<!Object>} Iterable of next steps.\n",
              " */\n",
              "function* uploadFilesStep(inputId, outputId) {\n",
              "  const inputElement = document.getElementById(inputId);\n",
              "  inputElement.disabled = false;\n",
              "\n",
              "  const outputElement = document.getElementById(outputId);\n",
              "  outputElement.innerHTML = '';\n",
              "\n",
              "  const pickedPromise = new Promise((resolve) => {\n",
              "    inputElement.addEventListener('change', (e) => {\n",
              "      resolve(e.target.files);\n",
              "    });\n",
              "  });\n",
              "\n",
              "  const cancel = document.createElement('button');\n",
              "  inputElement.parentElement.appendChild(cancel);\n",
              "  cancel.textContent = 'Cancel upload';\n",
              "  const cancelPromise = new Promise((resolve) => {\n",
              "    cancel.onclick = () => {\n",
              "      resolve(null);\n",
              "    };\n",
              "  });\n",
              "\n",
              "  // Wait for the user to pick the files.\n",
              "  const files = yield {\n",
              "    promise: Promise.race([pickedPromise, cancelPromise]),\n",
              "    response: {\n",
              "      action: 'starting',\n",
              "    }\n",
              "  };\n",
              "\n",
              "  cancel.remove();\n",
              "\n",
              "  // Disable the input element since further picks are not allowed.\n",
              "  inputElement.disabled = true;\n",
              "\n",
              "  if (!files) {\n",
              "    return {\n",
              "      response: {\n",
              "        action: 'complete',\n",
              "      }\n",
              "    };\n",
              "  }\n",
              "\n",
              "  for (const file of files) {\n",
              "    const li = document.createElement('li');\n",
              "    li.append(span(file.name, {fontWeight: 'bold'}));\n",
              "    li.append(span(\n",
              "        `(${file.type || 'n/a'}) - ${file.size} bytes, ` +\n",
              "        `last modified: ${\n",
              "            file.lastModifiedDate ? file.lastModifiedDate.toLocaleDateString() :\n",
              "                                    'n/a'} - `));\n",
              "    const percent = span('0% done');\n",
              "    li.appendChild(percent);\n",
              "\n",
              "    outputElement.appendChild(li);\n",
              "\n",
              "    const fileDataPromise = new Promise((resolve) => {\n",
              "      const reader = new FileReader();\n",
              "      reader.onload = (e) => {\n",
              "        resolve(e.target.result);\n",
              "      };\n",
              "      reader.readAsArrayBuffer(file);\n",
              "    });\n",
              "    // Wait for the data to be ready.\n",
              "    let fileData = yield {\n",
              "      promise: fileDataPromise,\n",
              "      response: {\n",
              "        action: 'continue',\n",
              "      }\n",
              "    };\n",
              "\n",
              "    // Use a chunked sending to avoid message size limits. See b/62115660.\n",
              "    let position = 0;\n",
              "    do {\n",
              "      const length = Math.min(fileData.byteLength - position, MAX_PAYLOAD_SIZE);\n",
              "      const chunk = new Uint8Array(fileData, position, length);\n",
              "      position += length;\n",
              "\n",
              "      const base64 = btoa(String.fromCharCode.apply(null, chunk));\n",
              "      yield {\n",
              "        response: {\n",
              "          action: 'append',\n",
              "          file: file.name,\n",
              "          data: base64,\n",
              "        },\n",
              "      };\n",
              "\n",
              "      let percentDone = fileData.byteLength === 0 ?\n",
              "          100 :\n",
              "          Math.round((position / fileData.byteLength) * 100);\n",
              "      percent.textContent = `${percentDone}% done`;\n",
              "\n",
              "    } while (position < fileData.byteLength);\n",
              "  }\n",
              "\n",
              "  // All done.\n",
              "  yield {\n",
              "    response: {\n",
              "      action: 'complete',\n",
              "    }\n",
              "  };\n",
              "}\n",
              "\n",
              "scope.google = scope.google || {};\n",
              "scope.google.colab = scope.google.colab || {};\n",
              "scope.google.colab._files = {\n",
              "  _uploadFiles,\n",
              "  _uploadFilesContinue,\n",
              "};\n",
              "})(self);\n",
              "</script> "
            ]
          },
          "metadata": {}
        },
        {
          "output_type": "stream",
          "name": "stdout",
          "text": [
            "Saving Customers.csv to Customers.csv\n",
            "Saving Items.csv to Items.csv\n",
            "Saving Orders.csv to Orders.csv\n",
            "Saving Products.csv to Products.csv\n",
            "Saving Stores.csv to Stores.csv\n",
            "Saving Supplies.csv to Supplies.csv\n",
            "Files here: ['.config', 'Products.csv', 'Stores.csv', 'Supplies.csv', 'Orders.csv', 'Items.csv', 'Customers.csv', 'sample_data']\n",
            "Dataset shapes:\n",
            "Customers: (932, 2)\n",
            "Orders: (63148, 7)\n",
            "Items: (90184, 3)\n",
            "Products: (10, 5)\n",
            "Stores: (6, 4)\n",
            "Supplies: (65, 5)\n"
          ]
        }
      ]
    },
    {
      "cell_type": "code",
      "source": [
        "#Question 1\n",
        "\n",
        "# Q1.1: Calculate total revenue\n",
        "total_revenue = orders.select(pl.sum(\"order_total\")).item()\n",
        "print(f\"Total Revenue: ${total_revenue:.2f}\")\n"
      ],
      "metadata": {
        "colab": {
          "base_uri": "https://localhost:8080/"
        },
        "id": "f-z_NQ3m78Pq",
        "outputId": "f198c20f-c607-4da9-fa07-8b3fd5040486"
      },
      "execution_count": null,
      "outputs": [
        {
          "output_type": "stream",
          "name": "stdout",
          "text": [
            "Total Revenue: $66038193.00\n"
          ]
        }
      ]
    },
    {
      "cell_type": "code",
      "source": [
        "# Q1.2: Revenue by store location\n",
        "revenue_by_store = (\n",
        "    orders.group_by(\"store_id\")\n",
        "    .agg(pl.sum(\"order_total\").alias(\"revenue\"))\n",
        "    .join(stores.select([\"id\", \"name\"]), left_on = \"store_id\", right_on = 'id', how = \"left\")\n",
        "    .select([\"store_id\", \"name\", \"revenue\"])\n",
        "    .sort(\"revenue\", descending=True)\n",
        "    )\n",
        "revenue_by_store\n"
      ],
      "metadata": {
        "colab": {
          "base_uri": "https://localhost:8080/",
          "height": 161
        },
        "id": "tWsJEW6m8EnD",
        "outputId": "ea3ef4f1-28fc-4435-c57a-30775339f13a"
      },
      "execution_count": null,
      "outputs": [
        {
          "output_type": "execute_result",
          "data": {
            "text/plain": [
              "shape: (2, 3)\n",
              "┌─────────────────────────────────┬──────────────┬──────────┐\n",
              "│ store_id                        ┆ name         ┆ revenue  │\n",
              "│ ---                             ┆ ---          ┆ ---      │\n",
              "│ str                             ┆ str          ┆ i64      │\n",
              "╞═════════════════════════════════╪══════════════╪══════════╡\n",
              "│ a9128331-08d7-41a2-b615-21283e… ┆ Philadelphia ┆ 43215565 │\n",
              "│ a2a24e87-dec8-4f5d-9c9e-0e9849… ┆ Brooklyn     ┆ 22822628 │\n",
              "└─────────────────────────────────┴──────────────┴──────────┘"
            ],
            "text/html": [
              "<div><style>\n",
              ".dataframe > thead > tr,\n",
              ".dataframe > tbody > tr {\n",
              "  text-align: right;\n",
              "  white-space: pre-wrap;\n",
              "}\n",
              "</style>\n",
              "<small>shape: (2, 3)</small><table border=\"1\" class=\"dataframe\"><thead><tr><th>store_id</th><th>name</th><th>revenue</th></tr><tr><td>str</td><td>str</td><td>i64</td></tr></thead><tbody><tr><td>&quot;a9128331-08d7-41a2-b615-21283e…</td><td>&quot;Philadelphia&quot;</td><td>43215565</td></tr><tr><td>&quot;a2a24e87-dec8-4f5d-9c9e-0e9849…</td><td>&quot;Brooklyn&quot;</td><td>22822628</td></tr></tbody></table></div>"
            ]
          },
          "metadata": {},
          "execution_count": 4
        }
      ]
    },
    {
      "cell_type": "code",
      "source": [
        "#Q1.2 Chart\n",
        "\n",
        "import matplotlib.pyplot as plt\n",
        "\n",
        "plt.figure(figsize=(8,4))\n",
        "plt.bar(revenue_by_store[\"name\"], revenue_by_store[\"revenue\"])\n",
        "plt.title(\"Revenue by Store\")\n",
        "plt.xlabel(\"Store\")\n",
        "plt.ylabel(\"Revenue\")\n",
        "plt.xticks(rotation=30, ha=\"right\")\n",
        "plt.tight_layout()\n",
        "plt.show()"
      ],
      "metadata": {
        "colab": {
          "base_uri": "https://localhost:8080/",
          "height": 407
        },
        "id": "WZ7Qjx-M-dbL",
        "outputId": "17be5120-4e89-4bf9-8675-3e76b4cfd5b8"
      },
      "execution_count": null,
      "outputs": [
        {
          "output_type": "display_data",
          "data": {
            "text/plain": [
              "<Figure size 800x400 with 1 Axes>"
            ],
            "image/png": "[encoded data removed]"
          },
          "metadata": {}
        }
      ]
    },
    {
      "cell_type": "code",
      "source": [
        "# Q1.3: Monthly revenue trends\n",
        "\n",
        "monthly_revenue_trends = (\n",
        "    orders.with_columns(pl.col(\"ordered_at\").str.strptime(pl.Datetime, \"%Y-%m-%dT%H:%M:%S\").dt.truncate(\"1mo\").alias(\"month\"))\n",
        "    .group_by(\"month\")\n",
        "    .agg(pl.sum(\"order_total\").alias(\"monthly_revenue\"))\n",
        "    .sort(\"month\")\n",
        "    )\n",
        "monthly_revenue_trends"
      ],
      "metadata": {
        "colab": {
          "base_uri": "https://localhost:8080/",
          "height": 443
        },
        "id": "BWDYFjWf8FzE",
        "outputId": "3535bd8c-dcc4-4f99-8c8a-7ef3fd191d91"
      },
      "execution_count": null,
      "outputs": [
        {
          "output_type": "execute_result",
          "data": {
            "text/plain": [
              "shape: (12, 2)\n",
              "┌─────────────────────┬─────────────────┐\n",
              "│ month               ┆ monthly_revenue │\n",
              "│ ---                 ┆ ---             │\n",
              "│ datetime[μs]        ┆ i64             │\n",
              "╞═════════════════════╪═════════════════╡\n",
              "│ 2016-09-01 00:00:00 ┆ 1644922         │\n",
              "│ 2016-10-01 00:00:00 ┆ 1956651         │\n",
              "│ 2016-11-01 00:00:00 ┆ 2552662         │\n",
              "│ 2016-12-01 00:00:00 ┆ 3307337         │\n",
              "│ 2017-01-01 00:00:00 ┆ 3821291         │\n",
              "│ …                   ┆ …               │\n",
              "│ 2017-04-01 00:00:00 ┆ 7392014         │\n",
              "│ 2017-05-01 00:00:00 ┆ 8469909         │\n",
              "│ 2017-06-01 00:00:00 ┆ 8617148         │\n",
              "│ 2017-07-01 00:00:00 ┆ 8585320         │\n",
              "│ 2017-08-01 00:00:00 ┆ 9332296         │\n",
              "└─────────────────────┴─────────────────┘"
            ],
            "text/html": [
              "<div><style>\n",
              ".dataframe > thead > tr,\n",
              ".dataframe > tbody > tr {\n",
              "  text-align: right;\n",
              "  white-space: pre-wrap;\n",
              "}\n",
              "</style>\n",
              "<small>shape: (12, 2)</small><table border=\"1\" class=\"dataframe\"><thead><tr><th>month</th><th>monthly_revenue</th></tr><tr><td>datetime[μs]</td><td>i64</td></tr></thead><tbody><tr><td>2016-09-01 00:00:00</td><td>1644922</td></tr><tr><td>2016-10-01 00:00:00</td><td>1956651</td></tr><tr><td>2016-11-01 00:00:00</td><td>2552662</td></tr><tr><td>2016-12-01 00:00:00</td><td>3307337</td></tr><tr><td>2017-01-01 00:00:00</td><td>3821291</td></tr><tr><td>&hellip;</td><td>&hellip;</td></tr><tr><td>2017-04-01 00:00:00</td><td>7392014</td></tr><tr><td>2017-05-01 00:00:00</td><td>8469909</td></tr><tr><td>2017-06-01 00:00:00</td><td>8617148</td></tr><tr><td>2017-07-01 00:00:00</td><td>8585320</td></tr><tr><td>2017-08-01 00:00:00</td><td>9332296</td></tr></tbody></table></div>"
            ]
          },
          "metadata": {},
          "execution_count": 6
        }
      ]
    },
    {
      "cell_type": "code",
      "source": [
        "#Q1.3 - Chart\n",
        "plt.figure(figsize=(10,4))\n",
        "plt.plot(monthly_revenue_trends[\"month\"], monthly_revenue_trends[\"monthly_revenue\"], marker=\"o\")\n",
        "plt.title(\"Monthly Revenue Trends\")\n",
        "plt.xlabel(\"Month\")\n",
        "plt.ylabel(\"Revenue\")\n",
        "plt.xticks(rotation=45)\n",
        "plt.tight_layout()\n",
        "plt.show()"
      ],
      "metadata": {
        "colab": {
          "base_uri": "https://localhost:8080/",
          "height": 366
        },
        "id": "3XUwCnv0BtO-",
        "outputId": "7f3bad48-0098-45d7-8708-220d67239650"
      },
      "execution_count": null,
      "outputs": [
        {
          "output_type": "display_data",
          "data": {
            "text/plain": [
              "<Figure size 1000x400 with 1 Axes>"
            ],
            "image/png": "[encoded data removed]"
          },
          "metadata": {}
        }
      ]
    },
    {
      "cell_type": "code",
      "source": [
        "# Q1.4: Revenue by day of week\n",
        "\n",
        "orders = pl.read_csv(\"Orders.csv\")\n",
        "print(orders.columns)\n",
        "print(orders.head(3))\n",
        "\n",
        "orders = orders.with_columns(\n",
        "    pl.col(\"ordered_at\").str.to_datetime(strict=False).alias(\"ordered_at\")\n",
        ")\n",
        "\n",
        "revenue_by_day_of_week = (\n",
        "    orders\n",
        "    .with_columns([\n",
        "        pl.col(\"ordered_at\").dt.weekday().alias(\"weekday_num\"),\n",
        "        pl.col(\"ordered_at\").dt.strftime(\"%A\").alias(\"day_of_week\")\n",
        "    ])\n",
        "    .group_by([\"weekday_num\", \"day_of_week\"])\n",
        "    .agg(pl.sum(\"order_total\").alias(\"revenue\"))\n",
        "    .sort(\"weekday_num\")\n",
        "    .select([\"day_of_week\", \"revenue\"])\n",
        ")\n",
        "\n",
        "revenue_by_day_of_week"
      ],
      "metadata": {
        "colab": {
          "base_uri": "https://localhost:8080/",
          "height": 621
        },
        "id": "xo5xECcX8G2R",
        "outputId": "1a8ce6e5-7fee-45fa-fd29-80559d51ccd5"
      },
      "execution_count": null,
      "outputs": [
        {
          "output_type": "stream",
          "name": "stdout",
          "text": [
            "['id', 'customer', 'ordered_at', 'store_id', 'subtotal', 'tax_paid', 'order_total']\n",
            "shape: (3, 7)\n",
            "┌───────────────┬───────────────┬───────────────┬──────────────┬──────────┬──────────┬─────────────┐\n",
            "│ id            ┆ customer      ┆ ordered_at    ┆ store_id     ┆ subtotal ┆ tax_paid ┆ order_total │\n",
            "│ ---           ┆ ---           ┆ ---           ┆ ---          ┆ ---      ┆ ---      ┆ ---         │\n",
            "│ str           ┆ str           ┆ str           ┆ str          ┆ i64      ┆ i64      ┆ i64         │\n",
            "╞═══════════════╪═══════════════╪═══════════════╪══════════════╪══════════╪══════════╪═════════════╡\n",
            "│ 363ab5f2-78b4 ┆ ae3a050d-287f ┆ 2016-09-01T14 ┆ a9128331-08d ┆ 1700     ┆ 102      ┆ 1802        │\n",
            "│ -4227-9333-97 ┆ -4257-a778-cd ┆ :49:00        ┆ 7-41a2-b615- ┆          ┆          ┆             │\n",
            "│ 01ef…         ┆ b420…         ┆               ┆ 21283e…      ┆          ┆          ┆             │\n",
            "│ d6cdb882-aa8c ┆ 33a51363-1989 ┆ 2016-09-01T08 ┆ a9128331-08d ┆ 600      ┆ 36       ┆ 636         │\n",
            "│ -4b5a-a478-43 ┆ -4967-93a1-b8 ┆ :21:00        ┆ 7-41a2-b615- ┆          ┆          ┆             │\n",
            "│ 21ef…         ┆ e225…         ┆               ┆ 21283e…      ┆          ┆          ┆             │\n",
            "│ ca934a93-aca1 ┆ 2f8f7de0-4c62 ┆ 2016-09-01T08 ┆ a9128331-08d ┆ 700      ┆ 42       ┆ 742         │\n",
            "│ -4aeb-9786-ef ┆ -4b87-8494-6a ┆ :59:00        ┆ 7-41a2-b615- ┆          ┆          ┆             │\n",
            "│ b0da…         ┆ 50d6…         ┆               ┆ 21283e…      ┆          ┆          ┆             │\n",
            "└───────────────┴───────────────┴───────────────┴──────────────┴──────────┴──────────┴─────────────┘\n"
          ]
        },
        {
          "output_type": "execute_result",
          "data": {
            "text/plain": [
              "shape: (7, 2)\n",
              "┌─────────────┬──────────┐\n",
              "│ day_of_week ┆ revenue  │\n",
              "│ ---         ┆ ---      │\n",
              "│ str         ┆ i64      │\n",
              "╞═════════════╪══════════╡\n",
              "│ Monday      ┆ 10611971 │\n",
              "│ Tuesday     ┆ 10814455 │\n",
              "│ Wednesday   ┆ 10834569 │\n",
              "│ Thursday    ┆ 10829195 │\n",
              "│ Friday      ┆ 10758715 │\n",
              "│ Saturday    ┆ 5981489  │\n",
              "│ Sunday      ┆ 6207799  │\n",
              "└─────────────┴──────────┘"
            ],
            "text/html": [
              "<div><style>\n",
              ".dataframe > thead > tr,\n",
              ".dataframe > tbody > tr {\n",
              "  text-align: right;\n",
              "  white-space: pre-wrap;\n",
              "}\n",
              "</style>\n",
              "<small>shape: (7, 2)</small><table border=\"1\" class=\"dataframe\"><thead><tr><th>day_of_week</th><th>revenue</th></tr><tr><td>str</td><td>i64</td></tr></thead><tbody><tr><td>&quot;Monday&quot;</td><td>10611971</td></tr><tr><td>&quot;Tuesday&quot;</td><td>10814455</td></tr><tr><td>&quot;Wednesday&quot;</td><td>10834569</td></tr><tr><td>&quot;Thursday&quot;</td><td>10829195</td></tr><tr><td>&quot;Friday&quot;</td><td>10758715</td></tr><tr><td>&quot;Saturday&quot;</td><td>5981489</td></tr><tr><td>&quot;Sunday&quot;</td><td>6207799</td></tr></tbody></table></div>"
            ]
          },
          "metadata": {},
          "execution_count": 8
        }
      ]
    },
    {
      "cell_type": "code",
      "source": [
        "#Question 2\n",
        "\n",
        "#Q2.1\n",
        "\n",
        "if \"quantity\" in items.columns:\n",
        "    items_enriched = items.with_columns(pl.col(\"quantity\").alias(\"qty\"))\n",
        "else:\n",
        "    items_enriched = items.with_columns(pl.lit(1).alias(\"qty\"))\n",
        "\n",
        "items_priced = (\n",
        "    items_enriched\n",
        "    .join(products.select([\"sku\", \"type\", \"price\"]), on=\"sku\", how=\"left\")\n",
        "    .with_columns((pl.col(\"qty\") * pl.col(\"price\")).alias(\"item_revenue\"))\n",
        ")\n",
        "\n",
        "revenue_by_category = (\n",
        "    items_priced\n",
        "    .group_by(\"type\")\n",
        "    .agg(pl.sum(\"item_revenue\").alias(\"revenue\"))\n",
        "    .sort(\"revenue\", descending=True)\n",
        ")\n",
        "revenue_by_category\n"
      ],
      "metadata": {
        "id": "es9-jKAtAvHO",
        "outputId": "b24c0c5e-eab9-4dfa-a226-49cc6a8bb789",
        "colab": {
          "base_uri": "https://localhost:8080/",
          "height": 161
        }
      },
      "execution_count": null,
      "outputs": [
        {
          "output_type": "execute_result",
          "data": {
            "text/plain": [
              "shape: (2, 2)\n",
              "┌──────────┬──────────┐\n",
              "│ type     ┆ revenue  │\n",
              "│ ---      ┆ ---      │\n",
              "│ str      ┆ i64      │\n",
              "╞══════════╪══════════╡\n",
              "│ beverage ┆ 39836200 │\n",
              "│ jaffle   ┆ 22880900 │\n",
              "└──────────┴──────────┘"
            ],
            "text/html": [
              "<div><style>\n",
              ".dataframe > thead > tr,\n",
              ".dataframe > tbody > tr {\n",
              "  text-align: right;\n",
              "  white-space: pre-wrap;\n",
              "}\n",
              "</style>\n",
              "<small>shape: (2, 2)</small><table border=\"1\" class=\"dataframe\"><thead><tr><th>type</th><th>revenue</th></tr><tr><td>str</td><td>i64</td></tr></thead><tbody><tr><td>&quot;beverage&quot;</td><td>39836200</td></tr><tr><td>&quot;jaffle&quot;</td><td>22880900</td></tr></tbody></table></div>"
            ]
          },
          "metadata": {},
          "execution_count": 9
        }
      ]
    },
    {
      "cell_type": "code",
      "source": [
        "#Q2.2 Chart\n",
        "\n",
        "plt.figure(figsize=(6,4))\n",
        "plt.bar(revenue_by_category[\"type\"], revenue_by_category[\"revenue\"])\n",
        "plt.title(\"Revenue by Product Category\")\n",
        "plt.xlabel(\"Category\")\n",
        "plt.ylabel(\"Revenue\")\n",
        "plt.tight_layout()\n",
        "plt.show()"
      ],
      "metadata": {
        "colab": {
          "base_uri": "https://localhost:8080/",
          "height": 407
        },
        "id": "_S3mrnkdCGg6",
        "outputId": "dad640a2-9506-4b86-f6ff-8aadc5d9bc23"
      },
      "execution_count": null,
      "outputs": [
        {
          "output_type": "display_data",
          "data": {
            "text/plain": [
              "<Figure size 600x400 with 1 Axes>"
            ],
            "image/png": "[encoded data removed]"
          },
          "metadata": {}
        }
      ]
    },
    {
      "cell_type": "code",
      "source": [
        "#Q2.2\n",
        "\n",
        "avg_price_by_type = (\n",
        "    products.group_by(\"type\")\n",
        "    .agg(pl.mean(\"price\").alias(\"avg_price\"))\n",
        "    .sort(\"type\")\n",
        ")\n",
        "avg_price_by_type"
      ],
      "metadata": {
        "colab": {
          "base_uri": "https://localhost:8080/",
          "height": 161
        },
        "id": "DgAwLGbCCQ6B",
        "outputId": "7a164cc3-0a4b-4a5d-ccfd-781916d85614"
      },
      "execution_count": null,
      "outputs": [
        {
          "output_type": "execute_result",
          "data": {
            "text/plain": [
              "shape: (2, 2)\n",
              "┌──────────┬───────────┐\n",
              "│ type     ┆ avg_price │\n",
              "│ ---      ┆ ---       │\n",
              "│ str      ┆ f64       │\n",
              "╞══════════╪═══════════╡\n",
              "│ beverage ┆ 560.0     │\n",
              "│ jaffle   ┆ 1200.0    │\n",
              "└──────────┴───────────┘"
            ],
            "text/html": [
              "<div><style>\n",
              ".dataframe > thead > tr,\n",
              ".dataframe > tbody > tr {\n",
              "  text-align: right;\n",
              "  white-space: pre-wrap;\n",
              "}\n",
              "</style>\n",
              "<small>shape: (2, 2)</small><table border=\"1\" class=\"dataframe\"><thead><tr><th>type</th><th>avg_price</th></tr><tr><td>str</td><td>f64</td></tr></thead><tbody><tr><td>&quot;beverage&quot;</td><td>560.0</td></tr><tr><td>&quot;jaffle&quot;</td><td>1200.0</td></tr></tbody></table></div>"
            ]
          },
          "metadata": {},
          "execution_count": 11
        }
      ]
    },
    {
      "cell_type": "code",
      "source": [
        "#Question 3\n",
        "\n",
        "#Q3.1\n",
        "revenue_by_store_core = (\n",
        "    orders\n",
        "    .group_by(\"store_id\")\n",
        "    .agg(pl.sum(\"order_total\").alias(\"revenue\"))\n",
        ")\n",
        "\n",
        "max_order_ts = orders.select(pl.max(\"ordered_at\")).item()\n",
        "\n",
        "revenue_per_day_by_store = (\n",
        "    revenue_by_store_core\n",
        "    .join(stores.select([\"id\",\"name\",\"opened_at\"]), left_on=\"store_id\", right_on=\"id\", how=\"left\")\n",
        "    .with_columns(\n",
        "        (pl.col(\"opened_at\").str.strptime(pl.Datetime, \"%Y-%m-%dT%H:%M:%S\")).alias(\"opened_at_dt\")\n",
        "    )\n",
        "    .with_columns(\n",
        "        (pl.lit(max_order_ts).str.strptime(pl.Datetime, \"%Y-%m-%dT%H:%M:%S\") - pl.col(\"opened_at_dt\")).cast(pl.Int64).alias(\"days_active\")\n",
        "    )\n",
        "    .with_columns(\n",
        "        (pl.col(\"days_active\") / (1000 * 1000 * 1000 * 60 * 60 * 24)).cast(pl.Int64).alias(\"days_active_calculated\")\n",
        "    )\n",
        "    .with_columns(\n",
        "        pl.col(\"days_active_calculated\").clip(lower_bound=1)\n",
        "    )\n",
        "    .with_columns(\n",
        "        (pl.col(\"revenue\") / pl.col(\"days_active_calculated\").cast(pl.Float64)).alias(\"revenue_per_day\")\n",
        "    )\n",
        "    .select([\"store_id\",\"name\",\"revenue\",\"days_active_calculated\",\"revenue_per_day\"])\n",
        "    .sort(\"revenue_per_day\", descending=True)\n",
        ")\n",
        "\n",
        "revenue_per_day_by_store"
      ],
      "metadata": {
        "colab": {
          "base_uri": "https://localhost:8080/",
          "height": 211
        },
        "id": "eTlvqev5CWnV",
        "outputId": "741cb277-6faa-4faa-8387-d163cf13efda"
      },
      "execution_count": null,
      "outputs": [
        {
          "output_type": "error",
          "ename": "NameError",
          "evalue": "name 'orders' is not defined",
          "traceback": [
            "\u001b[0;31m---------------------------------------------------------------------------\u001b[0m",
            "\u001b[0;31mNameError\u001b[0m                                 Traceback (most recent call last)",
            "\u001b[0;32m/tmp/ipython-input-2773199702.py\u001b[0m in \u001b[0;36m<cell line: 0>\u001b[0;34m()\u001b[0m\n\u001b[1;32m      3\u001b[0m \u001b[0;31m#Q3.1\u001b[0m\u001b[0;34m\u001b[0m\u001b[0;34m\u001b[0m\u001b[0m\n\u001b[1;32m      4\u001b[0m revenue_by_store_core = (\n\u001b[0;32m----> 5\u001b[0;31m     \u001b[0morders\u001b[0m\u001b[0;34m\u001b[0m\u001b[0;34m\u001b[0m\u001b[0m\n\u001b[0m\u001b[1;32m      6\u001b[0m     \u001b[0;34m.\u001b[0m\u001b[0mgroup_by\u001b[0m\u001b[0;34m(\u001b[0m\u001b[0;34m\"store_id\"\u001b[0m\u001b[0;34m)\u001b[0m\u001b[0;34m\u001b[0m\u001b[0;34m\u001b[0m\u001b[0m\n\u001b[1;32m      7\u001b[0m     \u001b[0;34m.\u001b[0m\u001b[0magg\u001b[0m\u001b[0;34m(\u001b[0m\u001b[0mpl\u001b[0m\u001b[0;34m.\u001b[0m\u001b[0msum\u001b[0m\u001b[0;34m(\u001b[0m\u001b[0;34m\"order_total\"\u001b[0m\u001b[0;34m)\u001b[0m\u001b[0;34m.\u001b[0m\u001b[0malias\u001b[0m\u001b[0;34m(\u001b[0m\u001b[0;34m\"revenue\"\u001b[0m\u001b[0;34m)\u001b[0m\u001b[0;34m)\u001b[0m\u001b[0;34m\u001b[0m\u001b[0;34m\u001b[0m\u001b[0m\n",
            "\u001b[0;31mNameError\u001b[0m: name 'orders' is not defined"
          ]
        }
      ]
    },
    {
      "cell_type": "code",
      "source": [
        "#Q3.1 Chart\n",
        "\n",
        "_top = revenue_per_day_by_store.head(10)\n",
        "plt.figure(figsize=(9,4))\n",
        "plt.bar(_top[\"name\"], _top[\"revenue_per_day\"])\n",
        "plt.title(\"Top Stores by Revenue per Day Since Opening\")\n",
        "plt.xlabel(\"Store\")\n",
        "plt.ylabel(\"Revenue per Day\")\n",
        "plt.xticks(rotation=30, ha=\"right\")\n",
        "plt.tight_layout()\n",
        "plt.show()\n",
        "\n",
        "\n"
      ],
      "metadata": {
        "id": "O5qQ-tTYC3OB",
        "colab": {
          "base_uri": "https://localhost:8080/",
          "height": 211
        },
        "outputId": "7fb3b9f4-e3ca-41dd-f3b2-11bd3d24b966"
      },
      "execution_count": null,
      "outputs": [
        {
          "output_type": "error",
          "ename": "NameError",
          "evalue": "name 'revenue_per_day_by_store' is not defined",
          "traceback": [
            "\u001b[0;31m---------------------------------------------------------------------------\u001b[0m",
            "\u001b[0;31mNameError\u001b[0m                                 Traceback (most recent call last)",
            "\u001b[0;32m/tmp/ipython-input-2211777126.py\u001b[0m in \u001b[0;36m<cell line: 0>\u001b[0;34m()\u001b[0m\n\u001b[1;32m      1\u001b[0m \u001b[0;31m#Q3.1 Chart\u001b[0m\u001b[0;34m\u001b[0m\u001b[0;34m\u001b[0m\u001b[0m\n\u001b[1;32m      2\u001b[0m \u001b[0;34m\u001b[0m\u001b[0m\n\u001b[0;32m----> 3\u001b[0;31m \u001b[0m_top\u001b[0m \u001b[0;34m=\u001b[0m \u001b[0mrevenue_per_day_by_store\u001b[0m\u001b[0;34m.\u001b[0m\u001b[0mhead\u001b[0m\u001b[0;34m(\u001b[0m\u001b[0;36m10\u001b[0m\u001b[0;34m)\u001b[0m\u001b[0;34m\u001b[0m\u001b[0;34m\u001b[0m\u001b[0m\n\u001b[0m\u001b[1;32m      4\u001b[0m \u001b[0mplt\u001b[0m\u001b[0;34m.\u001b[0m\u001b[0mfigure\u001b[0m\u001b[0;34m(\u001b[0m\u001b[0mfigsize\u001b[0m\u001b[0;34m=\u001b[0m\u001b[0;34m(\u001b[0m\u001b[0;36m9\u001b[0m\u001b[0;34m,\u001b[0m\u001b[0;36m4\u001b[0m\u001b[0;34m)\u001b[0m\u001b[0;34m)\u001b[0m\u001b[0;34m\u001b[0m\u001b[0;34m\u001b[0m\u001b[0m\n\u001b[1;32m      5\u001b[0m \u001b[0mplt\u001b[0m\u001b[0;34m.\u001b[0m\u001b[0mbar\u001b[0m\u001b[0;34m(\u001b[0m\u001b[0m_top\u001b[0m\u001b[0;34m[\u001b[0m\u001b[0;34m\"name\"\u001b[0m\u001b[0;34m]\u001b[0m\u001b[0;34m,\u001b[0m \u001b[0m_top\u001b[0m\u001b[0;34m[\u001b[0m\u001b[0;34m\"revenue_per_day\"\u001b[0m\u001b[0;34m]\u001b[0m\u001b[0;34m)\u001b[0m\u001b[0;34m\u001b[0m\u001b[0;34m\u001b[0m\u001b[0m\n",
            "\u001b[0;31mNameError\u001b[0m: name 'revenue_per_day_by_store' is not defined"
          ]
        }
      ]
    },
    {
      "cell_type": "code",
      "source": [
        "#Q3.2 - IDK WHAT ITS ASKING FOR\n",
        "\n",
        "tax_rate_performance = (\n",
        "    revenue_per_day_by_store\n",
        "    .join(stores.select([\"id\",\"tax_rate\"]), left_on=\"store_id\", right_on=\"id\", how=\"left\")\n",
        "    .select([\"store_id\",\"name\",\"tax_rate\",\"revenue_per_day\"])\n",
        ")\n",
        "\n",
        "tax_rate_performance"
      ],
      "metadata": {
        "id": "e0eerFyYC89d"
      },
      "execution_count": null,
      "outputs": []
    },
    {
      "cell_type": "code",
      "source": [
        "#Question 4\n",
        "\n",
        "#Q4.1 Distribution of order values\n",
        "\n",
        "order_value_distribution = (\n",
        "    orders\n",
        "    .select([\n",
        "        pl.col(\"id\").alias(\"order_id\"),\n",
        "        pl.col(\"order_total\").cast(pl.Float64).alias(\"order_value\")\n",
        "    ])\n",
        ")\n",
        "\n",
        "print(order_value_distribution)\n",
        "\n",
        "\n",
        "order_value_stats = order_value_distribution.select([\n",
        "    pl.mean(\"order_value\").alias(\"avg\"),\n",
        "    pl.median(\"order_value\").alias(\"median\"),\n",
        "    pl.quantile(\"order_value\", 0.25).alias(\"q25\"),\n",
        "    pl.quantile(\"order_value\", 0.75).alias(\"q75\"),\n",
        "    pl.min(\"order_value\").alias(\"min\"),\n",
        "    pl.max(\"order_value\").alias(\"max\"),\n",
        "])\n",
        "print(order_value_stats)"
      ],
      "metadata": {
        "id": "ARRqgk6XDRtD"
      },
      "execution_count": null,
      "outputs": []
    },
    {
      "cell_type": "code",
      "source": [
        "#Q4.2 Repeat customers analysis\n",
        "\n",
        "repeat_customer_analysis = (\n",
        "    orders\n",
        "    .group_by(\"customer\")\n",
        "    .agg([\n",
        "        pl.len().alias(\"orders_count\"),\n",
        "        pl.sum(\"order_total\").alias(\"customer_revenue\")\n",
        "    ])\n",
        "    .with_columns(\n",
        "        (pl.col(\"orders_count\") > 1).alias(\"is_repeat\")\n",
        "    )\n",
        ")\n",
        "\n",
        "repeat_summary = (\n",
        "    repeat_customer_analysis\n",
        "    .group_by(\"is_repeat\")\n",
        "    .agg([\n",
        "        pl.count().alias(\"num_customers\"),\n",
        "        pl.sum(\"customer_revenue\").alias(\"revenue\")\n",
        "    ])\n",
        ")\n",
        "repeat_summary"
      ],
      "metadata": {
        "id": "4gs1vSe0pfQy"
      },
      "execution_count": null,
      "outputs": []
    },
    {
      "cell_type": "code",
      "source": [
        "#Q4.3 Top revenue contributors\n",
        "\n",
        "top_revenue_customers = (\n",
        "    repeat_customer_analysis\n",
        "    .sort(\"customer_revenue\", descending=True)\n",
        "    .head(10)\n",
        "    .join(\n",
        "        customers.select([pl.col(\"id\").alias(\"customer\"), \"name\"]),\n",
        "        on=\"customer\",\n",
        "        how=\"left\"\n",
        "    )\n",
        "    .select([\"customer\", \"name\", \"orders_count\", \"customer_revenue\"])\n",
        ")\n",
        "top_revenue_customers"
      ],
      "metadata": {
        "id": "vGvk9_vAp7Un"
      },
      "execution_count": null,
      "outputs": []
    },
    {
      "cell_type": "code",
      "source": [
        "# Question 5\n",
        "\n",
        "sku_costs = (\n",
        "    supplies\n",
        "    .group_by(\"sku\")\n",
        "    .agg(pl.sum(\"cost\").alias(\"unit_cost\"))\n",
        ")\n",
        "\n",
        "items_costed = (\n",
        "    items\n",
        "    .join(products.select([\"sku\", \"name\", \"type\", \"price\"]), on=\"sku\", how=\"left\")\n",
        "    .join(sku_costs, on=\"sku\", how=\"left\")\n",
        "    .with_columns([\n",
        "        pl.lit(1).alias(\"qty\"),\n",
        "        (pl.col(\"price\")).alias(\"item_revenue\"),\n",
        "        (pl.col(\"unit_cost\").fill_null(0)).alias(\"item_cost\")\n",
        "    ])\n",
        ")\n",
        "\n",
        "items_costed_orders = (\n",
        "    items_costed\n",
        "    .join(orders.select([pl.col(\"id\").alias(\"order_id_join\"), \"id\", \"store_id\"]),\n",
        "          left_on=\"order_id\", right_on=\"id\", how=\"left\")\n",
        "    .drop(\"order_id_join\")\n",
        ")\n",
        "\n",
        "#Q5.1 Calculate gross margin per product\n",
        "product_margins = (\n",
        "    items_costed\n",
        "    .group_by(\"sku\")\n",
        "    .agg([\n",
        "        pl.first(\"name\").alias(\"product_name\"),\n",
        "        pl.first(\"type\").alias(\"product_type\"),\n",
        "        pl.first(\"price\").alias(\"list_price\"),\n",
        "        pl.first(\"unit_cost\").fill_null(0).alias(\"unit_cost\"),\n",
        "        pl.count().alias(\"units_sold\"),\n",
        "        pl.sum(\"item_revenue\").alias(\"revenue\"),\n",
        "        pl.sum(\"item_cost\").alias(\"cost\"),\n",
        "    ])\n",
        "    .with_columns([\n",
        "        (pl.col(\"revenue\") - pl.col(\"cost\")).alias(\"profit\"),\n",
        "        pl.when(pl.col(\"revenue\") > 0)\n",
        "          .then((pl.col(\"revenue\") - pl.col(\"cost\")) / pl.col(\"revenue\"))\n",
        "          .otherwise(0.0)\n",
        "          .alias(\"margin_pct\")\n",
        "    ])\n",
        "    .sort(\"sku\")\n",
        ")\n",
        "product_margins"
      ],
      "metadata": {
        "id": "dDf7ytfJqGwL"
      },
      "execution_count": null,
      "outputs": []
    },
    {
      "cell_type": "code",
      "source": [
        "#Q5.2 Products with highest profit margins\n",
        "\n",
        "highest_margin_products = (\n",
        "    product_margins\n",
        "    .sort([\"margin_pct\", \"revenue\"], descending=[True, True])\n",
        "    .head(10)\n",
        "    .select([\"sku\", \"product_name\", \"product_type\", \"units_sold\", \"revenue\", \"profit\", \"margin_pct\"])\n",
        ")\n",
        "highest_margin_products\n"
      ],
      "metadata": {
        "id": "EsINpN0Arvi4"
      },
      "execution_count": null,
      "outputs": []
    },
    {
      "cell_type": "code",
      "source": [
        "#Q5.3 Order size vs profitability\n",
        "\n",
        "order_size_profitability = (\n",
        "    items_costed\n",
        "    .group_by(\"order_id\")\n",
        "    .agg([\n",
        "        pl.len().alias(\"items_in_order\"),\n",
        "        pl.sum(\"item_revenue\").alias(\"order_revenue\"),\n",
        "        pl.sum(\"item_cost\").alias(\"order_cost\"),\n",
        "    ])\n",
        "    .with_columns([\n",
        "        (pl.col(\"order_revenue\") - pl.col(\"order_cost\")).alias(\"order_profit\"),\n",
        "    ])\n",
        "    .with_columns([\n",
        "        pl.when(pl.col(\"items_in_order\") > 0)\n",
        "          .then(pl.col(\"order_profit\") / pl.col(\"items_in_order\"))\n",
        "          .otherwise(0.0)\n",
        "          .alias(\"profit_per_item\"),\n",
        "        pl.when(pl.col(\"order_revenue\") > 0)\n",
        "          .then(pl.col(\"order_profit\") / pl.col(\"order_revenue\"))\n",
        "          .otherwise(0.0)\n",
        "          .alias(\"order_margin\"),\n",
        "    ])\n",
        ")\n",
        "order_size_profitability"
      ],
      "metadata": {
        "id": "NlqsFDPJr_FX"
      },
      "execution_count": null,
      "outputs": []
    },
    {
      "cell_type": "code",
      "source": [
        "#Q5.4 Profitability by store\n",
        "\n",
        "store_profitability = (\n",
        "    items_costed_orders\n",
        "    .group_by(\"store_id\")\n",
        "    .agg([\n",
        "        pl.sum(\"item_revenue\").alias(\"revenue\"),\n",
        "        pl.sum(\"item_cost\").alias(\"cost\"),\n",
        "    ])\n",
        "    .with_columns([\n",
        "        (pl.col(\"revenue\") - pl.col(\"cost\")).alias(\"profit\"),\n",
        "    ])\n",
        "    .with_columns([\n",
        "        pl.when(pl.col(\"revenue\") > 0)\n",
        "          .then(pl.col(\"profit\") / pl.col(\"revenue\"))\n",
        "          .otherwise(0.0)\n",
        "          .alias(\"margin_pct\")\n",
        "    ])\n",
        "    .join(stores.select([pl.col(\"id\").alias(\"store_id\"), \"name\"]), on=\"store_id\", how=\"left\")\n",
        "    .select([\"store_id\", \"name\", \"revenue\", \"cost\", \"profit\", \"margin_pct\"])\n",
        "    .sort(\"margin_pct\", descending=True)\n",
        ")\n",
        "store_profitability"
      ],
      "metadata": {
        "id": "XBjn17-UswMb"
      },
      "execution_count": null,
      "outputs": []
    },
    {
      "cell_type": "markdown",
      "source": [
        "## Question 6: Business Optimization Recommendations\n",
        "\n",
        "Based on your analysis, provide three specific, data-driven recommendations to improve business performance. Support each recommendation with relevant metrics and visualizations.\n"
      ],
      "metadata": {
        "id": "_qLlz6-vQ5HJ"
      }
    },
    {
      "cell_type": "code",
      "source": [
        "#Recommendation 1 Code:\n",
        "\n",
        "import polars as pl\n",
        "\n",
        "items_enriched = (\n",
        "    items.join(products.select([\"product_id\", \"category\"]), on=\"product_id\", how=\"left\")\n",
        "         .with_columns(pl.col(\"category\").str.to_lowercase().alias(\"cat\"))\n",
        ")\n",
        "\n",
        "order_flags = (\n",
        "    items_enriched.with_columns([\n",
        "        (pl.col(\"cat\") == \"beverage\").alias(\"is_bev\"),\n",
        "        (pl.col(\"cat\") == \"jaffle\").alias(\"is_jaf\"),\n",
        "    ])\n",
        "    .group_by(\"order_id\")\n",
        "    .agg([\n",
        "        pl.max(\"is_bev\").alias(\"has_bev\"),\n",
        "        pl.max(\"is_jaf\").alias(\"has_jaf\"),\n",
        "    ])\n",
        "    .with_columns((pl.col(\"has_bev\") & pl.col(\"has_jaf\")).alias(\"is_bundle\"))\n",
        ")\n",
        "\n",
        "orders_t = (\n",
        "    orders\n",
        "    .with_columns(pl.col(\"ordered_at\").str.strptime(pl.Datetime, strict=False).alias(\"dt\"))\n",
        "    .with_columns([\n",
        "        pl.col(\"dt\").dt.weekday().alias(\"wday\"),\n",
        "        pl.col(\"dt\").dt.year().alias(\"year\"),\n",
        "        pl.col(\"dt\").dt.week().alias(\"week\"),\n",
        "    ])\n",
        "    .join(order_flags, on=\"order_id\", how=\"left\")\n",
        "    .with_columns([\n",
        "        pl.col(\"has_bev\").fill_null(False),\n",
        "        pl.col(\"has_jaf\").fill_null(False),\n",
        "        pl.col(\"is_bundle\").fill_null(False),\n",
        "    ])\n",
        ")\n",
        "\n",
        "aov_summary = (\n",
        "    orders_t\n",
        "    .with_columns(pl.when(pl.col(\"has_bev\")).then(\"with_beverage\").otherwise(\"no_beverage\").alias(\"grp\"))\n",
        "    .group_by(\"grp\")\n",
        "    .agg([\n",
        "        pl.count().alias(\"orders\"),\n",
        "        pl.mean(\"order_total\").alias(\"aov\")\n",
        "    ])\n",
        ")\n",
        "\n",
        "weekday_revenue = (\n",
        "    orders_t.group_by(\"wday\").agg(pl.sum(\"order_total\").alias(\"revenue\"))\n",
        "            .sort(\"revenue\", descending=True)\n",
        ")\n",
        "top_weekdays = weekday_revenue.head(2)\n",
        "\n",
        "chain_attach = orders_t.select(pl.mean(pl.col(\"has_bev\").cast(pl.Float64)).alias(\"rate\")).item()\n",
        "attach_by_store = (\n",
        "    orders_t.group_by(\"store_id\").agg(pl.mean(pl.col(\"has_bev\").cast(pl.Float64)).alias(\"attach_rate\"))\n",
        "            .with_columns((pl.col(\"attach_rate\") - chain_attach).alias(\"gap_vs_chain\"))\n",
        "            .sort(\"gap_vs_chain\")\n",
        ")\n",
        "\n",
        "weekly_kpis = (\n",
        "    orders_t.group_by([\"year\", \"week\"])\n",
        "            .agg([\n",
        "                pl.count().alias(\"orders\"),\n",
        "                pl.mean(\"order_total\").alias(\"aov\"),\n",
        "                pl.mean(pl.col(\"has_bev\").cast(pl.Float64)).alias(\"bev_attach\"),\n",
        "                pl.mean(pl.col(\"is_bundle\").cast(pl.Float64)).alias(\"bundle_share\"),\n",
        "            ])\n",
        "            .sort([\"year\", \"week\"])\n",
        ")"
      ],
      "metadata": {
        "id": "mfsScl2_jT46",
        "colab": {
          "base_uri": "https://localhost:8080/",
          "height": 211
        },
        "outputId": "965c752a-703e-4190-817f-1ab8afcc0655"
      },
      "execution_count": null,
      "outputs": [
        {
          "output_type": "error",
          "ename": "NameError",
          "evalue": "name 'items' is not defined",
          "traceback": [
            "\u001b[0;31m---------------------------------------------------------------------------\u001b[0m",
            "\u001b[0;31mNameError\u001b[0m                                 Traceback (most recent call last)",
            "\u001b[0;32m/tmp/ipython-input-3259227887.py\u001b[0m in \u001b[0;36m<cell line: 0>\u001b[0;34m()\u001b[0m\n\u001b[1;32m      4\u001b[0m \u001b[0;34m\u001b[0m\u001b[0m\n\u001b[1;32m      5\u001b[0m items_enriched = (\n\u001b[0;32m----> 6\u001b[0;31m     \u001b[0mitems\u001b[0m\u001b[0;34m.\u001b[0m\u001b[0mjoin\u001b[0m\u001b[0;34m(\u001b[0m\u001b[0mproducts\u001b[0m\u001b[0;34m.\u001b[0m\u001b[0mselect\u001b[0m\u001b[0;34m(\u001b[0m\u001b[0;34m[\u001b[0m\u001b[0;34m\"product_id\"\u001b[0m\u001b[0;34m,\u001b[0m \u001b[0;34m\"category\"\u001b[0m\u001b[0;34m]\u001b[0m\u001b[0;34m)\u001b[0m\u001b[0;34m,\u001b[0m \u001b[0mon\u001b[0m\u001b[0;34m=\u001b[0m\u001b[0;34m\"product_id\"\u001b[0m\u001b[0;34m,\u001b[0m \u001b[0mhow\u001b[0m\u001b[0;34m=\u001b[0m\u001b[0;34m\"left\"\u001b[0m\u001b[0;34m)\u001b[0m\u001b[0;34m\u001b[0m\u001b[0;34m\u001b[0m\u001b[0m\n\u001b[0m\u001b[1;32m      7\u001b[0m          \u001b[0;34m.\u001b[0m\u001b[0mwith_columns\u001b[0m\u001b[0;34m(\u001b[0m\u001b[0mpl\u001b[0m\u001b[0;34m.\u001b[0m\u001b[0mcol\u001b[0m\u001b[0;34m(\u001b[0m\u001b[0;34m\"category\"\u001b[0m\u001b[0;34m)\u001b[0m\u001b[0;34m.\u001b[0m\u001b[0mstr\u001b[0m\u001b[0;34m.\u001b[0m\u001b[0mto_lowercase\u001b[0m\u001b[0;34m(\u001b[0m\u001b[0;34m)\u001b[0m\u001b[0;34m.\u001b[0m\u001b[0malias\u001b[0m\u001b[0;34m(\u001b[0m\u001b[0;34m\"cat\"\u001b[0m\u001b[0;34m)\u001b[0m\u001b[0;34m)\u001b[0m\u001b[0;34m\u001b[0m\u001b[0;34m\u001b[0m\u001b[0m\n\u001b[1;32m      8\u001b[0m )\n",
            "\u001b[0;31mNameError\u001b[0m: name 'items' is not defined"
          ]
        }
      ]
    },
    {
      "cell_type": "code",
      "metadata": {
        "id": "66041d97"
      },
      "source": [
        "from google.colab import files\n",
        "import polars as pl\n",
        "import os\n",
        "\n",
        "uploaded = files.upload()\n",
        "\n",
        "print(\"Files here:\", os.listdir())\n",
        "\n",
        "customers = pl.read_csv(\"Customers.csv\")\n",
        "orders = pl.read_csv(\"Orders.csv\")\n",
        "items = pl.read_csv(\"Items.csv\")\n",
        "products = pl.read_csv(\"Products.csv\")\n",
        "stores = pl.read_csv(\"Stores.csv\")\n",
        "supplies = pl.read_csv(\"Supplies.csv\")\n",
        "\n",
        "print(\"Dataset shapes:\")\n",
        "print(f\"Customers: {customers.shape}\")\n",
        "print(f\"Orders: {orders.shape}\")\n",
        "print(f\"Items: {items.shape}\")\n",
        "print(f\"Products: {products.shape}\")\n",
        "print(f\"Stores: {stores.shape}\")\n",
        "print(f\"Supplies: {supplies.shape}\")"
      ],
      "execution_count": null,
      "outputs": []
    },
    {
      "cell_type": "markdown",
      "source": [
        "#Recommendation 1 – Increase Average Order Value with Bundles\n",
        "Our analysis showed that tickets including beverages had a noticeably higher average order value than those without, yet only a small portion of customers purchased a jaffle and a beverage together. To capture this opportunity, Jaffle Shop should introduce a standard “Jaffle + Beverage” meal deal across stores, promote it more heavily on the two weekdays with the strongest revenue, and have staff encourage the option at checkout in locations where beverage attach rates fall below average. By making the bundle easy and consistent while tracking beverage attach rates, bundle share, and average order value each week, the shop can drive higher sales and profitability without adding major operational complexity.\n"
      ],
      "metadata": {
        "id": "PNbR3BhnnDvH"
      }
    },
    {
      "cell_type": "code",
      "metadata": {
        "id": "40db8400",
        "colab": {
          "base_uri": "https://localhost:8080/",
          "height": 407
        },
        "outputId": "35aaa174-7e66-4046-9866-7a90b9034dc7"
      },
      "source": [
        "#Recommendation 1 Code:\n",
        "\n",
        "import polars as pl\n",
        "import matplotlib.pyplot as plt\n",
        "\n",
        "if orders.schema.get(\"ordered_at\") != pl.Datetime:\n",
        "    orders = orders.with_columns(pl.col(\"ordered_at\").str.to_datetime(strict=False).alias(\"ordered_at\"))\n",
        "\n",
        "items_with_type = items.join(products.select([\"sku\", \"type\"]), on=\"sku\", how=\"left\")\n",
        "\n",
        "beverage_items = items_with_type.filter(pl.col(\"type\") == \"beverage\").select([\"order_id\"])\n",
        "jaffle_items = items_with_type.filter(pl.col(\"type\") == \"jaffle\").select([\"order_id\"])\n",
        "\n",
        "by_order_flags = (\n",
        "    items_with_type\n",
        "    .group_by(\"order_id\")\n",
        "    .agg([\n",
        "        pl.len().alias(\"items_total\"),\n",
        "    ])\n",
        "    .with_columns([\n",
        "        pl.col(\"order_id\").is_in(beverage_items[\"order_id\"]).alias(\"has_bev\"),\n",
        "        pl.col(\"order_id\").is_in(jaffle_items[\"order_id\"]).alias(\"has_jaffle\"),\n",
        "    ])\n",
        "    .with_columns([\n",
        "        ((pl.col(\"has_bev\") > 0) & (pl.col(\"has_jaffle\") > 0)).alias(\"is_bundle\")\n",
        "    ])\n",
        "    .join(orders.select([\"id\",\"order_total\",\"ordered_at\"]), left_on=\"order_id\", right_on=\"id\", how=\"left\")\n",
        ")\n",
        "\n",
        "\n",
        "aov_comparison = (\n",
        "    by_order_flags\n",
        "    .group_by(\"has_bev\")\n",
        "    .agg(pl.mean(\"order_total\").alias(\"avg_order_total_cents\"),\n",
        "         pl.len().alias(\"num_orders\"))\n",
        "    .with_columns(\n",
        "        (pl.col(\"avg_order_total_cents\")/100).round(2).alias(\"avg_order_total_$\")\n",
        "    )\n",
        "    .select([\"has_bev\",\"num_orders\",\"avg_order_total_$\"])\n",
        ")\n",
        "aov_comparison\n",
        "\n",
        "attach_and_bundle = (\n",
        "    by_order_flags\n",
        "    .select([\n",
        "        pl.col(\"has_bev\").mean().cast(pl.Float64).alias(\"attach_rate_bev\"),\n",
        "        pl.col(\"is_bundle\").mean().cast(pl.Float64).alias(\"bundle_share\")\n",
        "    ])\n",
        ")\n",
        "attach_and_bundle\n",
        "\n",
        "weekday_attach = (\n",
        "    by_order_flags\n",
        "    .with_columns([\n",
        "        pl.col(\"ordered_at\").dt.weekday().alias(\"weekday_num\"),\n",
        "        pl.col(\"ordered_at\").dt.strftime(\"%A\").alias(\"day_of_week\")\n",
        "    ])\n",
        "    .group_by([\"weekday_num\",\"day_of_week\"])\n",
        "    .agg([\n",
        "        pl.col(\"has_bev\").mean().cast(pl.Float64).alias(\"attach_rate_bev\"),\n",
        "        pl.col(\"is_bundle\").mean().cast(pl.Float64).alias(\"bundle_share\"),\n",
        "        pl.len().alias(\"orders\")\n",
        "    ])\n",
        "    .sort(\"weekday_num\")\n",
        "    .select([\"day_of_week\",\"attach_rate_bev\",\"bundle_share\",\"orders\"])\n",
        ")\n",
        "weekday_attach\n",
        "\n",
        "plt.figure(figsize=(8,4))\n",
        "plt.bar(weekday_attach[\"day_of_week\"].to_list(), weekday_attach[\"attach_rate_bev\"].to_list())\n",
        "plt.title(\"Beverage Attach Rate by Weekday\")\n",
        "plt.xlabel(\"Day\")\n",
        "plt.ylabel(\"Attach Rate\")\n",
        "plt.tight_layout(); plt.show()"
      ],
      "execution_count": null,
      "outputs": [
        {
          "output_type": "display_data",
          "data": {
            "text/plain": [
              "<Figure size 800x400 with 1 Axes>"
            ],
            "image/png": "[encoded data removed]"
          },
          "metadata": {}
        }
      ]
    },
    {
      "cell_type": "markdown",
      "source": [
        "#Recommendation 2 – Improve Profit Margins by Adjusting Product Mix\n",
        "Our product margin analysis showed that several low-margin, high-volume items are dragging down overall profitability despite their popularity, while higher-margin “hero” products remain under-promoted. To address this, Jaffle Shop should make targeted changes such as modest price increases ($0.25–$0.50) or slight portion adjustments for the low-margin bestsellers, paired with supplier renegotiations to bring down unit costs. At the same time, high-margin items should be given greater visibility on menus and featured more prominently in bundles and promotions to help shift demand toward these more profitable options. This balanced approach addresses margin leaks while boosting the impact of high-margin products, supporting stronger gross margins without significantly hurting sales volume."
      ],
      "metadata": {
        "id": "TU8S_pBCoe8z"
      }
    },
    {
      "cell_type": "code",
      "source": [
        "import polars as pl\n",
        "\n",
        "products_clean = products.with_columns(pl.col(\"price\").cast(pl.Int64))\n",
        "supplies_clean = supplies.with_columns(pl.col(\"cost\").cast(pl.Int64))\n",
        "\n",
        "sku_costs = (\n",
        "    supplies_clean\n",
        "    .group_by(\"sku\")\n",
        "    .agg(pl.sum(\"cost\").alias(\"unit_cost\"))\n",
        ")\n",
        "\n",
        "items_costed = (\n",
        "    items\n",
        "    .join(products_clean.select([\"sku\",\"name\",\"type\",\"price\"]), on=\"sku\", how=\"left\")\n",
        "    .join(sku_costs, on=\"sku\", how=\"left\")\n",
        "    .with_columns([\n",
        "        pl.col(\"unit_cost\").fill_null(0).alias(\"unit_cost\"),\n",
        "        pl.col(\"price\").alias(\"item_revenue\"),\n",
        "        pl.col(\"unit_cost\").alias(\"item_cost\"),\n",
        "    ])\n",
        ")\n",
        "\n",
        "product_margins = (\n",
        "    items_costed\n",
        "    .group_by(\"sku\")\n",
        "    .agg([\n",
        "        pl.first(\"name\").alias(\"product_name\"),\n",
        "        pl.first(\"type\").alias(\"product_type\"),\n",
        "        pl.first(\"price\").alias(\"list_price_cents\"),\n",
        "        pl.first(\"unit_cost\").fill_null(0).alias(\"unit_cost_cents\"),\n",
        "        pl.len().alias(\"units_sold\"),\n",
        "        pl.sum(\"item_revenue\").alias(\"revenue_cents\"),\n",
        "        pl.sum(\"item_cost\").alias(\"cost_cents\"),\n",
        "    ])\n",
        "    .with_columns([\n",
        "        (pl.col(\"revenue_cents\") - pl.col(\"cost_cents\")).alias(\"profit_cents\"),\n",
        "        pl.when(pl.col(\"revenue_cents\") > 0)\n",
        "          .then((pl.col(\"revenue_cents\") - pl.col(\"cost_cents\")) / pl.col(\"revenue_cents\"))\n",
        "          .otherwise(0.0)\n",
        "          .alias(\"margin_pct\"),\n",
        "    ])\n",
        ")\n",
        "\n",
        "q25_margin = product_margins.select(pl.quantile(\"margin_pct\", 0.25)).item()\n",
        "q75_units  = product_margins.select(pl.quantile(\"units_sold\", 0.75)).item()\n",
        "\n",
        "low_margin_high_vol = (\n",
        "    product_margins\n",
        "    .filter(\n",
        "        (pl.col(\"margin_pct\") <= q25_margin) &\n",
        "        (pl.col(\"units_sold\") >= q75_units)\n",
        "    )\n",
        "    .sort([\"margin_pct\",\"units_sold\"])\n",
        ")\n",
        "\n",
        "if low_margin_high_vol.height == 0:\n",
        "    N = min(10, product_margins.height)\n",
        "    low_margin_high_vol = product_margins.sort(\"margin_pct\").head(N)\n",
        "\n",
        "deltas = [25, 50]\n",
        "sim_df = low_margin_high_vol.select([\n",
        "    \"sku\",\"product_name\",\"units_sold\",\"list_price_cents\",\"unit_cost_cents\",\n",
        "    \"revenue_cents\",\"profit_cents\",\"margin_pct\"\n",
        "])\n",
        "\n",
        "exprs = []\n",
        "for d in deltas:\n",
        "    rev_plus  = pl.col(\"revenue_cents\") + pl.col(\"units_sold\") * d\n",
        "    prof_plus = rev_plus - pl.col(\"unit_cost_cents\") * pl.col(\"units_sold\")\n",
        "    exprs += [\n",
        "        rev_plus.alias(f\"revenue_cents_plus_{d}\"),\n",
        "        prof_plus.alias(f\"profit_cents_plus_{d}\"),\n",
        "        pl.when(rev_plus > 0).then(prof_plus / rev_plus).otherwise(0.0).alias(f\"margin_pct_plus_{d}\"),\n",
        "    ]\n",
        "\n",
        "sim_df = sim_df.with_columns(exprs).with_columns([\n",
        "    (pl.col(\"profit_cents_plus_25\") - pl.col(\"profit_cents\")).alias(\"delta_profit_+25c\"),\n",
        "    (pl.col(\"profit_cents_plus_50\") - pl.col(\"profit_cents\")).alias(\"delta_profit_+50c\"),\n",
        "])\n",
        "\n",
        "sim_df.sort(\"delta_profit_+25c\", descending=True).head(10)"
      ],
      "metadata": {
        "colab": {
          "base_uri": "https://localhost:8080/",
          "height": 167
        },
        "id": "uo9vRSeRoehf",
        "outputId": "1be099e8-aa33-4ee3-95b7-7832b2212eb9"
      },
      "execution_count": null,
      "outputs": [
        {
          "output_type": "execute_result",
          "data": {
            "text/plain": [
              "shape: (1, 16)\n",
              "┌─────────┬────────────┬───────────┬───────────┬───┬───────────┬───────────┬───────────┬───────────┐\n",
              "│ sku     ┆ product_na ┆ units_sol ┆ list_pric ┆ … ┆ profit_ce ┆ margin_pc ┆ delta_pro ┆ delta_pro │\n",
              "│ ---     ┆ me         ┆ d         ┆ e_cents   ┆   ┆ nts_plus_ ┆ t_plus_50 ┆ fit_+25c  ┆ fit_+50c  │\n",
              "│ str     ┆ ---        ┆ ---       ┆ ---       ┆   ┆ 50        ┆ ---       ┆ ---       ┆ ---       │\n",
              "│         ┆ str        ┆ u32       ┆ i64       ┆   ┆ ---       ┆ f64       ┆ i64       ┆ i64       │\n",
              "│         ┆            ┆           ┆           ┆   ┆ i64       ┆           ┆           ┆           │\n",
              "╞═════════╪════════════╪═══════════╪═══════════╪═══╪═══════════╪═══════════╪═══════════╪═══════════╡\n",
              "│ BEV-002 ┆ chai and   ┆ 14359     ┆ 500       ┆ … ┆ 5384625   ┆ 0.681818  ┆ 358975    ┆ 717950    │\n",
              "│         ┆ mighty     ┆           ┆           ┆   ┆           ┆           ┆           ┆           │\n",
              "└─────────┴────────────┴───────────┴───────────┴───┴───────────┴───────────┴───────────┴───────────┘"
            ],
            "text/html": [
              "<div><style>\n",
              ".dataframe > thead > tr,\n",
              ".dataframe > tbody > tr {\n",
              "  text-align: right;\n",
              "  white-space: pre-wrap;\n",
              "}\n",
              "</style>\n",
              "<small>shape: (1, 16)</small><table border=\"1\" class=\"dataframe\"><thead><tr><th>sku</th><th>product_name</th><th>units_sold</th><th>list_price_cents</th><th>unit_cost_cents</th><th>revenue_cents</th><th>profit_cents</th><th>margin_pct</th><th>revenue_cents_plus_25</th><th>profit_cents_plus_25</th><th>margin_pct_plus_25</th><th>revenue_cents_plus_50</th><th>profit_cents_plus_50</th><th>margin_pct_plus_50</th><th>delta_profit_+25c</th><th>delta_profit_+50c</th></tr><tr><td>str</td><td>str</td><td>u32</td><td>i64</td><td>i64</td><td>i64</td><td>i64</td><td>f64</td><td>i64</td><td>i64</td><td>f64</td><td>i64</td><td>i64</td><td>f64</td><td>i64</td><td>i64</td></tr></thead><tbody><tr><td>&quot;BEV-002&quot;</td><td>&quot;chai and mighty&quot;</td><td>14359</td><td>500</td><td>175</td><td>7179500</td><td>4666675</td><td>0.65</td><td>7538475</td><td>5025650</td><td>0.666667</td><td>7897450</td><td>5384625</td><td>0.681818</td><td>358975</td><td>717950</td></tr></tbody></table></div>"
            ]
          },
          "metadata": {},
          "execution_count": 37
        }
      ]
    },
    {
      "cell_type": "markdown",
      "source": [
        "#Recommendation 3 – Focus Investment on High-Performing Stores and Local Pricing Strategy\n",
        "Our revenue-per-day analysis showed that some stores consistently outperform others, with the top quintile generating significantly higher daily returns since opening. These stores should be prioritized for added staffing, extended operating hours, and targeted local marketing to maximize ROI, while underperforming locations should focus on margin improvements from Recommendation 2 before receiving further investment. In addition, our tax rate analysis indicated that higher local sales taxes may dampen demand; to address this, Jaffle Shop should pilot tax-inclusive pricing in higher-tax markets to reduce sticker shock and measure its effect on order volume. By directing resources toward proven high-return stores and adapting pricing to local conditions, Jaffle Shop can drive growth that is both sustainable and profitable.\n"
      ],
      "metadata": {
        "id": "aJ6h3oeDsFqq"
      }
    },
    {
      "cell_type": "code",
      "source": [
        "if orders.schema.get(\"ordered_at\") != pl.Datetime:\n",
        "    orders = orders.with_columns(pl.col(\"ordered_at\").str.to_datetime(strict=False).alias(\"ordered_at\"))\n",
        "if stores.schema.get(\"opened_at\") != pl.Datetime:\n",
        "    stores = stores.with_columns(pl.col(\"opened_at\").str.to_datetime(strict=False).alias(\"opened_at\"))\n",
        "\n",
        "revenue_by_store_core = (\n",
        "    orders.group_by(\"store_id\").agg(pl.sum(\"order_total\").alias(\"revenue_cents\"))\n",
        ")\n",
        "max_ts = orders.select(pl.max(\"ordered_at\")).item()\n",
        "\n",
        "revenue_per_day_by_store = (\n",
        "    revenue_by_store_core\n",
        "    .join(stores.select([\"id\",\"name\",\"opened_at\",\"tax_rate\"]), left_on=\"store_id\", right_on=\"id\", how=\"left\")\n",
        "    .with_columns(((pl.lit(max_ts) - pl.col(\"opened_at\")).dt.total_days()).alias(\"days_active_f\"))\n",
        "    .with_columns(pl.col(\"days_active_f\").ceil().clip(lower_bound=1).cast(pl.Int64).alias(\"days_active\"))\n",
        "    .with_columns((pl.col(\"revenue_cents\") / pl.col(\"days_active\").cast(pl.Float64)).alias(\"revenue_per_day_cents\"))\n",
        "    .select([\"store_id\",\"name\",\"tax_rate\",\"revenue_cents\",\"days_active\",\"revenue_per_day_cents\"])\n",
        "    .sort(\"revenue_per_day_cents\", descending=True)\n",
        ")\n",
        "revenue_per_day_by_store\n",
        "\n",
        "top2 = revenue_per_day_by_store.head(2)\n",
        "bottom2 = revenue_per_day_by_store.tail(2)\n",
        "top2, bottom2\n",
        "\n",
        "tax_rate_performance = revenue_per_day_by_store.select([\"store_id\",\"name\",\"tax_rate\",\"revenue_per_day_cents\"])\n",
        "corr_tax_perf = tax_rate_performance.select(pl.corr(\"tax_rate\",\"revenue_per_day_cents\").alias(\"corr\")).item()\n",
        "print(f\"Correlation (tax_rate vs revenue/day cents): {corr_tax_perf:.3f}\")\n",
        "\n",
        "plt.figure(figsize=(6,5))\n",
        "plt.scatter(\n",
        "    tax_rate_performance[\"tax_rate\"].to_list(),\n",
        "    tax_rate_performance[\"revenue_per_day_cents\"].to_list()\n",
        ")\n",
        "for n, x, y in zip(\n",
        "    tax_rate_performance[\"name\"].to_list(),\n",
        "    tax_rate_performance[\"tax_rate\"].to_list(),\n",
        "    tax_rate_performance[\"revenue_per_day_cents\"].to_list()\n",
        "):\n",
        "    plt.annotate(n, (x, y), fontsize=8, xytext=(3,3), textcoords=\"offset points\")\n",
        "plt.title(\"Tax Rate vs Revenue per Day (cents)\")\n",
        "plt.xlabel(\"Local Tax Rate\"); plt.ylabel(\"Revenue per Day (cents)\")\n",
        "plt.tight_layout(); plt.show()\n",
        "\n",
        "median_tax = stores.select(pl.median(\"tax_rate\")).item()\n",
        "high_tax_baseline = (\n",
        "    orders\n",
        "    .join(stores.select([pl.col(\"id\").alias(\"store_id\"),\"name\",\"tax_rate\"]), on=\"store_id\", how=\"left\")\n",
        "    .filter(pl.col(\"tax_rate\") >= median_tax)\n",
        "    .group_by([\"name\", \"tax_rate\"])\n",
        "    .agg([\n",
        "        pl.len().alias(\"orders\"),\n",
        "        pl.mean(\"order_total\").alias(\"avg_order_total_cents\"),\n",
        "    ])\n",
        "    .with_columns((pl.col(\"avg_order_total_cents\")/100).round(2).alias(\"avg_order_total_$\"))\n",
        "    .select([\"name\",\"orders\",\"avg_order_total_$\",\"avg_order_total_cents\",\"tax_rate\"])\n",
        "    .sort(\"tax_rate\", descending=True)\n",
        ")\n",
        "high_tax_baseline"
      ],
      "metadata": {
        "colab": {
          "base_uri": "https://localhost:8080/",
          "height": 606
        },
        "id": "khMtI_8UsH9A",
        "outputId": "b0cf942d-082a-4e99-aef1-ef91dbbd7cb1"
      },
      "execution_count": null,
      "outputs": [
        {
          "output_type": "stream",
          "name": "stdout",
          "text": [
            "Correlation (tax_rate vs revenue/day cents): -1.000\n"
          ]
        },
        {
          "output_type": "display_data",
          "data": {
            "text/plain": [
              "<Figure size 600x500 with 1 Axes>"
            ],
            "image/png": "[encoded data removed]"
          },
          "metadata": {}
        },
        {
          "output_type": "execute_result",
          "data": {
            "text/plain": [
              "shape: (0, 5)\n",
              "┌──────┬────────┬───────────────────┬───────────────────────┬──────────┐\n",
              "│ name ┆ orders ┆ avg_order_total_$ ┆ avg_order_total_cents ┆ tax_rate │\n",
              "│ ---  ┆ ---    ┆ ---               ┆ ---                   ┆ ---      │\n",
              "│ str  ┆ u32    ┆ f64               ┆ f64                   ┆ f64      │\n",
              "╞══════╪════════╪═══════════════════╪═══════════════════════╪══════════╡\n",
              "└──────┴────────┴───────────────────┴───────────────────────┴──────────┘"
            ],
            "text/html": [
              "<div><style>\n",
              ".dataframe > thead > tr,\n",
              ".dataframe > tbody > tr {\n",
              "  text-align: right;\n",
              "  white-space: pre-wrap;\n",
              "}\n",
              "</style>\n",
              "<small>shape: (0, 5)</small><table border=\"1\" class=\"dataframe\"><thead><tr><th>name</th><th>orders</th><th>avg_order_total_$</th><th>avg_order_total_cents</th><th>tax_rate</th></tr><tr><td>str</td><td>u32</td><td>f64</td><td>f64</td><td>f64</td></tr></thead><tbody></tbody></table></div>"
            ]
          },
          "metadata": {},
          "execution_count": 26
        }
      ]
    },
    {
      "cell_type": "markdown",
      "source": [
        "# Executive Summary\n",
        "This data-driven review examines Jaffle Shop’s business performance and provides detailed insights to inform the executive team’s strategic decisions. Using Polars library in Python, our team analyzed datasets on customer orders, pricing, supply cost, and store locations. Our work highlights revenue trends, evaluates product profitability, assesses customer behavior, and identifies opportunities for store expansion and operational efficiency, all aimed at pinpointing growth opportunities and informing Jaffle Shop’s future business strategy.\n",
        "\n",
        "# Key Findings\n",
        "\n",
        "**Finding 1 – Order Value Distribution and Bundling Impact**\n",
        "\n",
        "Our analysis on orders indicates that the average order value is 1,045.8, while the median is only 636. This indicates that there is a tendency amongst customers to place smaller orders (Question 4.1). Orders of higher value tend to be “bundled”; including both a jaffle and a beverage. They fall in the upper quartile at 1,165, with some even reaching up to 10,281 (Question 4.1). This indicates that “bundled” orders consistently are higher in value, but represent only a small share of total transitions.\n",
        "\n",
        "**Finding 3 – Imbalance in Profitability Between High-Volume and High-Margin Products**\n",
        "\n",
        "The margin analysis details that some popular items reduce profitability while others generate strong returns. For example, “Chai and mighty” generated 7.18M revenue but only 4.67M profit at a 65% margin, and the “krautback” jaffle earned 3.22M profit at 69.5% (Question 5.1). Conversely, “nutellaphone who dis?” had 89% margin with 3.73M profit, and beverages like “for richer or pourover” and “tangaroo” delivered 8.79M and 7.44M profit with margins above 86% (Question 5.2). Such evidence indicates how low-margin bestsellers actually undermine performance, while high-margin items boost profitability.\n",
        "\n",
        "**Finding 4 – Store Performance Disparities**\n",
        "\n",
        "The revenue-per-day analysis shows significant differences in performance across store locations, measured relative to their opening dates. For example, the data shows that the Philadelphia location generates 43.2M per day. This is almost double the Brooklyn store at 22.8M,  highlighting the uneven performance across the two locations, a reality which must be recognized moving forward (Question 3.1).\n",
        "\n",
        "# Recommendations\n",
        "\n",
        "**Rec 1 – Increase Average Order Value with Bundle Deal**\n",
        "\n",
        "Jaffle should incorporate a standard meal deal consisting of a “Jaffle + Beverage.” Data suggests that orders which include both a jaffle and a drink average higher than those that do not, yet only a small share of customers buy this combo (Question 4.1). We suggest introducing this deal on weekdays when store revenue is proven to be the highest (Question 1.4). Action steps to standardize this upsell strategy include promotional material, staff prompting  (“would you like to make that a meal?”),  and monitoring weekly beverage attach rates and bundle shares to track strategy metrics. Through minimal operational complexity Jaffle Shop can lift up sales and increase profitability.  \n",
        "\n",
        "\n",
        "**Rec 2 – Improve Profit Margins by Adjusting Product Mix**\n",
        "\n",
        "We recommend Jaffle to promote high-margin “hero” products and increase the price of popular low-margin items. The data suggests that, despite their popularity, low-margin, high-volume items depress overall profitability and “hero” items are not substantially recognized by customers (Question 5.1 & 5.2). To eliminate this discrepancy Jaffle could slightly raise prices of low-margin bestsellers (e.g., 0.25–0.50), resize portions, or renegotiate lower prices with suppliers. Meanwhile, the menu should be updated to highlight high-margin items through promotions and bundles to increase customer demand. This approach balances corrective action on margin leaks with proactive promotion of high-margin products, ensuring gross margin expansion without significantly harming sales volume.\n",
        "\n",
        "**Rec 3 – Focus Investment on High-Performing Stores and Local Pricing Strategy**\n",
        "\n",
        "\n",
        "Our final suggestion is to prioritize incremental staffing, extended hours, and targeted local marketing in the highest-return stores. The revenue-per-day analysis shows substantially greater daily returns in Philadelphia than in Brooklyn Question 1.4). Therefore, Underperforming locations should first apply margin-improving steps (from Recommendation 2) before expanding. Since higher local sales taxes seem to decrease demand, Jaffle Shop could test tax-inclusive pricing in those markets to make prices clearer for customers and see how it affects order volume. Overall, this would direct resources to proven stores while adapting pricing strategy to sustain growth profitably.\n"
      ],
      "metadata": {
        "id": "6Xn7r-xPbznv"
      }
    }
  ]
}